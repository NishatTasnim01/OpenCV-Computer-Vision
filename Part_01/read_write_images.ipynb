{
  "cells": [
    {
      "cell_type": "markdown",
      "source": [
        "The **read‑write‑images.ipynb** module is a self‑contained demonstration of basic OpenCV file I/O wrapped in a Python class. It walks you through:\n",
        "\n",
        "* Reading a color image (and printing its dimensions)\n",
        "* Loading the same image in grayscale (again reporting its shape)\n",
        "* Writing the original image to an `output/` folder\n",
        "* Displaying the image in a window and handling a keypress to close it\n",
        "\n",
        "By isolating these operations in a separate notebook (and showing how to import and execute it from another module), you’ll learn both the essential OpenCV functions (`imread`, `imwrite`, `imshow`) and a clean project structure that makes future lessons and projects much easier to follow."
      ],
      "metadata": {
        "id": "Xb2_GIIbn2LI"
      },
      "id": "Xb2_GIIbn2LI"
    },
    {
      "cell_type": "code",
      "execution_count": null,
      "id": "029e5524-a78a-4443-a85a-014a676cd9a1",
      "metadata": {
        "id": "029e5524-a78a-4443-a85a-014a676cd9a1"
      },
      "outputs": [],
      "source": [
        "import cv2\n",
        "import sys\n",
        "import os"
      ]
    },
    {
      "cell_type": "code",
      "execution_count": null,
      "id": "1ea6c27e-edf3-45ce-8029-c3f89a617a8d",
      "metadata": {
        "id": "1ea6c27e-edf3-45ce-8029-c3f89a617a8d"
      },
      "outputs": [],
      "source": [
        "input_folder = os.path.join(\"../\", \"input\")\n",
        "output_folder = os.path.join(\"../\", \"output\")"
      ]
    },
    {
      "cell_type": "code",
      "execution_count": null,
      "id": "307b6cfb-7632-4180-8d4a-a7e438988c42",
      "metadata": {
        "id": "307b6cfb-7632-4180-8d4a-a7e438988c42"
      },
      "outputs": [],
      "source": [
        "class ReadWriteDisplay:\n",
        "    def __init__(self, image_path):\n",
        "        self.image_path = image_path\n",
        "\n",
        "    def read(self, ):\n",
        "        \"\"\" cv2.imread takes a image path to be read\"\"\"\n",
        "        image = cv2.imread(self.image_path)\n",
        "        shape = image.shape\n",
        "        # shape goes by : (rows,cols,channels)\n",
        "        print(\"Shape of the image:\", shape)\n",
        "\n",
        "        \"\"\" reading image with flags\"\"\"\n",
        "        # cv2.IMREAD_COLOR (default) ,cv2.IMREAD_GRAYSCALE (0) and cv2.IMREAD_UNCHANGED(-1)\n",
        "\n",
        "        grayscale = cv2.imread(self.image_path, 0)\n",
        "        # shape goes by : (rows,cols,channels)\n",
        "        shape = grayscale.shape\n",
        "        print(\"Shape of the grayscale image:\", shape)\n",
        "\n",
        "    def write(self):\n",
        "        image = cv2.imread(self.image_path)\n",
        "        if image is None:\n",
        "            sys.exit(\"Could not read the image.\")\n",
        "        cv2.imwrite(os.path.join(output_folder, \"write_output.jpg\"), image)\n",
        "\n",
        "    def show(self):\n",
        "        image = cv2.imread(self.image_path)\n",
        "        cv2.imshow(\"Display\", image)\n",
        "        if cv2.waitKey(0) & 0xff == 27:\n",
        "            cv2.destroyAllWindows()\n"
      ]
    }
  ],
  "metadata": {
    "kernelspec": {
      "display_name": "Python 3 (ipykernel)",
      "language": "python",
      "name": "python3"
    },
    "language_info": {
      "codemirror_mode": {
        "name": "ipython",
        "version": 3
      },
      "file_extension": ".py",
      "mimetype": "text/x-python",
      "name": "python",
      "nbconvert_exporter": "python",
      "pygments_lexer": "ipython3",
      "version": "3.12.4"
    },
    "colab": {
      "provenance": []
    }
  },
  "nbformat": 4,
  "nbformat_minor": 5
}